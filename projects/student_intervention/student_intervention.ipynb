{
 "cells": [
  {
   "cell_type": "markdown",
   "metadata": {},
   "source": [
    "# Machine Learning Engineer Nanodegree\n",
    "## Supervised Learning\n",
    "## Project 2: Building a Student Intervention System"
   ]
  },
  {
   "cell_type": "markdown",
   "metadata": {},
   "source": [
    "Welcome to the second project of the Machine Learning Engineer Nanodegree! In this notebook, some template code has already been provided for you, and it will be your job to implement the additional functionality necessary to successfully complete this project. Sections that begin with **'Implementation'** in the header indicate that the following block of code will require additional functionality which you must provide. Instructions will be provided for each section and the specifics of the implementation are marked in the code block with a `'TODO'` statement. Please be sure to read the instructions carefully!\n",
    "\n",
    "In addition to implementing code, there will be questions that you must answer which relate to the project and your implementation. Each section where you will answer a question is preceded by a **'Question X'** header. Carefully read each question and provide thorough answers in the following text boxes that begin with **'Answer:'**. Your project submission will be evaluated based on your answers to each of the questions and the implementation you provide.  \n",
    "\n",
    ">**Note:** Code and Markdown cells can be executed using the **Shift + Enter** keyboard shortcut. In addition, Markdown cells can be edited by typically double-clicking the cell to enter edit mode."
   ]
  },
  {
   "cell_type": "markdown",
   "metadata": {},
   "source": [
    "### Question 1 - Classification vs. Regression\n",
    "*Your goal for this project is to identify students who might need early intervention before they fail to graduate. Which type of supervised learning problem is this, classification or regression? Why?*"
   ]
  },
  {
   "cell_type": "markdown",
   "metadata": {},
   "source": [
    "**Answer: **\n",
    "Classification. We're classifying students as either 'need' or 'don't need' intervention, rather than fitting them to some continuous model."
   ]
  },
  {
   "cell_type": "markdown",
   "metadata": {},
   "source": [
    "## Exploring the Data\n",
    "Run the code cell below to load necessary Python libraries and load the student data. Note that the last column from this dataset, `'passed'`, will be our target label (whether the student graduated or didn't graduate). All other columns are features about each student."
   ]
  },
  {
   "cell_type": "code",
   "execution_count": 1,
   "metadata": {
    "collapsed": false
   },
   "outputs": [
    {
     "name": "stdout",
     "output_type": "stream",
     "text": [
      "Student data read successfully!\n"
     ]
    }
   ],
   "source": [
    "# Import libraries\n",
    "import numpy as np\n",
    "import pandas as pd\n",
    "from time import time\n",
    "from sklearn.metrics import f1_score\n",
    "\n",
    "# Read student data\n",
    "student_data = pd.read_csv(\"student-data.csv\")\n",
    "print \"Student data read successfully!\""
   ]
  },
  {
   "cell_type": "markdown",
   "metadata": {},
   "source": [
    "### Implementation: Data Exploration\n",
    "Let's begin by investigating the dataset to determine how many students we have information on, and learn about the graduation rate among these students. In the code cell below, you will need to compute the following:\n",
    "- The total number of students, `n_students`.\n",
    "- The total number of features for each student, `n_features`.\n",
    "- The number of those students who passed, `n_passed`.\n",
    "- The number of those students who failed, `n_failed`.\n",
    "- The graduation rate of the class, `grad_rate`, in percent (%).\n"
   ]
  },
  {
   "cell_type": "code",
   "execution_count": 2,
   "metadata": {
    "collapsed": false
   },
   "outputs": [
    {
     "name": "stdout",
     "output_type": "stream",
     "text": [
      "Total number of students: 395\n",
      "Number of features: 30\n",
      "Number of students who passed: 265\n",
      "Number of students who failed: 130\n",
      "Graduation rate of the class: 67.09%\n"
     ]
    }
   ],
   "source": [
    "# TODO: Calculate number of students\n",
    "n_students = len(student_data.index)\n",
    "\n",
    "# TODO: Calculate number of features\n",
    "n_features = len(student_data.columns) - 1 #don't include passing column\n",
    "\n",
    "# TODO: Calculate passing students\n",
    "passing_rates = student_data['passed'].value_counts()\n",
    "n_passed = passing_rates['yes']\n",
    "\n",
    "# TODO: Calculate failing students\n",
    "n_failed = passing_rates['no']\n",
    "\n",
    "# TODO: Calculate graduation rate\n",
    "grad_rate = 10**2*n_passed/float(n_students)\n",
    "\n",
    "# Print the results\n",
    "print \"Total number of students: {}\".format(n_students)\n",
    "print \"Number of features: {}\".format(n_features)\n",
    "print \"Number of students who passed: {}\".format(n_passed)\n",
    "print \"Number of students who failed: {}\".format(n_failed)\n",
    "print \"Graduation rate of the class: {:.2f}%\".format(grad_rate)"
   ]
  },
  {
   "cell_type": "markdown",
   "metadata": {},
   "source": [
    "## Preparing the Data\n",
    "In this section, we will prepare the data for modeling, training and testing.\n",
    "\n",
    "### Identify feature and target columns\n",
    "It is often the case that the data you obtain contains non-numeric features. This can be a problem, as most machine learning algorithms expect numeric data to perform computations with.\n",
    "\n",
    "Run the code cell below to separate the student data into feature and target columns to see if any features are non-numeric."
   ]
  },
  {
   "cell_type": "code",
   "execution_count": 3,
   "metadata": {
    "collapsed": false
   },
   "outputs": [
    {
     "name": "stdout",
     "output_type": "stream",
     "text": [
      "Feature columns:\n",
      "['school', 'sex', 'age', 'address', 'famsize', 'Pstatus', 'Medu', 'Fedu', 'Mjob', 'Fjob', 'reason', 'guardian', 'traveltime', 'studytime', 'failures', 'schoolsup', 'famsup', 'paid', 'activities', 'nursery', 'higher', 'internet', 'romantic', 'famrel', 'freetime', 'goout', 'Dalc', 'Walc', 'health', 'absences']\n",
      "\n",
      "Target column: passed\n",
      "\n",
      "Feature values:\n",
      "  school sex  age address famsize Pstatus  Medu  Fedu     Mjob      Fjob  \\\n",
      "0     GP   F   18       U     GT3       A     4     4  at_home   teacher   \n",
      "1     GP   F   17       U     GT3       T     1     1  at_home     other   \n",
      "2     GP   F   15       U     LE3       T     1     1  at_home     other   \n",
      "3     GP   F   15       U     GT3       T     4     2   health  services   \n",
      "4     GP   F   16       U     GT3       T     3     3    other     other   \n",
      "\n",
      "    ...    higher internet  romantic  famrel  freetime goout Dalc Walc health  \\\n",
      "0   ...       yes       no        no       4         3     4    1    1      3   \n",
      "1   ...       yes      yes        no       5         3     3    1    1      3   \n",
      "2   ...       yes      yes        no       4         3     2    2    3      3   \n",
      "3   ...       yes      yes       yes       3         2     2    1    1      5   \n",
      "4   ...       yes       no        no       4         3     2    1    2      5   \n",
      "\n",
      "  absences  \n",
      "0        6  \n",
      "1        4  \n",
      "2       10  \n",
      "3        2  \n",
      "4        4  \n",
      "\n",
      "[5 rows x 30 columns]\n"
     ]
    }
   ],
   "source": [
    "# Extract feature columns\n",
    "feature_cols = list(student_data.columns[:-1])\n",
    "\n",
    "# Extract target column 'passed'\n",
    "target_col = student_data.columns[-1] \n",
    "\n",
    "# Show the list of columns\n",
    "print \"Feature columns:\\n{}\".format(feature_cols)\n",
    "print \"\\nTarget column: {}\".format(target_col)\n",
    "\n",
    "# Separate the data into feature data and target data (X_all and y_all, respectively)\n",
    "X_all = student_data[feature_cols]\n",
    "y_all = student_data[target_col]\n",
    "\n",
    "# Show the feature information by printing the first five rows\n",
    "print \"\\nFeature values:\"\n",
    "print X_all.head()"
   ]
  },
  {
   "cell_type": "markdown",
   "metadata": {},
   "source": [
    "### Preprocess Feature Columns\n",
    "\n",
    "As you can see, there are several non-numeric columns that need to be converted! Many of them are simply `yes`/`no`, e.g. `internet`. These can be reasonably converted into `1`/`0` (binary) values.\n",
    "\n",
    "Other columns, like `Mjob` and `Fjob`, have more than two values, and are known as _categorical variables_. The recommended way to handle such a column is to create as many columns as possible values (e.g. `Fjob_teacher`, `Fjob_other`, `Fjob_services`, etc.), and assign a `1` to one of them and `0` to all others.\n",
    "\n",
    "These generated columns are sometimes called _dummy variables_, and we will use the [`pandas.get_dummies()`](http://pandas.pydata.org/pandas-docs/stable/generated/pandas.get_dummies.html?highlight=get_dummies#pandas.get_dummies) function to perform this transformation. Run the code cell below to perform the preprocessing routine discussed in this section."
   ]
  },
  {
   "cell_type": "code",
   "execution_count": 4,
   "metadata": {
    "collapsed": false
   },
   "outputs": [
    {
     "name": "stdout",
     "output_type": "stream",
     "text": [
      "Processed feature columns (48 total features):\n",
      "['school_GP', 'school_MS', 'sex_F', 'sex_M', 'age', 'address_R', 'address_U', 'famsize_GT3', 'famsize_LE3', 'Pstatus_A', 'Pstatus_T', 'Medu', 'Fedu', 'Mjob_at_home', 'Mjob_health', 'Mjob_other', 'Mjob_services', 'Mjob_teacher', 'Fjob_at_home', 'Fjob_health', 'Fjob_other', 'Fjob_services', 'Fjob_teacher', 'reason_course', 'reason_home', 'reason_other', 'reason_reputation', 'guardian_father', 'guardian_mother', 'guardian_other', 'traveltime', 'studytime', 'failures', 'schoolsup', 'famsup', 'paid', 'activities', 'nursery', 'higher', 'internet', 'romantic', 'famrel', 'freetime', 'goout', 'Dalc', 'Walc', 'health', 'absences']\n"
     ]
    }
   ],
   "source": [
    "def preprocess_features(X):\n",
    "    ''' Preprocesses the student data and converts non-numeric binary variables into\n",
    "        binary (0/1) variables. Converts categorical variables into dummy variables. '''\n",
    "    \n",
    "    # Initialize new output DataFrame\n",
    "    output = pd.DataFrame(index = X.index)\n",
    "\n",
    "    # Investigate each feature column for the data\n",
    "    for col, col_data in X.iteritems():\n",
    "        \n",
    "        # If data type is non-numeric, replace all yes/no values with 1/0\n",
    "        if col_data.dtype == object:\n",
    "            col_data = col_data.replace(['yes', 'no'], [1, 0])\n",
    "\n",
    "        # If data type is categorical, convert to dummy variables\n",
    "        if col_data.dtype == object:\n",
    "            # Example: 'school' => 'school_GP' and 'school_MS'\n",
    "            col_data = pd.get_dummies(col_data, prefix = col)  \n",
    "        \n",
    "        # Collect the revised columns\n",
    "        output = output.join(col_data)\n",
    "    \n",
    "    return output\n",
    "\n",
    "X_all = preprocess_features(X_all)\n",
    "print \"Processed feature columns ({} total features):\\n{}\".format(len(X_all.columns), list(X_all.columns))"
   ]
  },
  {
   "cell_type": "markdown",
   "metadata": {},
   "source": [
    "### Further Preprocessing\n",
    "Even using dummy variables for non-numeric features, we still haven't normalized all our data. Some features are numeric but use arbitrary scaling such as age in years, and with some estimators this will cause those features' weights to change disproportionately. Since I wish to use an SVM, one such sensitive estimator, later in the project I'll create a scaled version of the data to work with. \n",
    "\n",
    "A rudimentary method of scaling is to normalize all the features to the range [-1,1], which can be done with sklearn's scale function. This doesn't take into account feature importance, which means we might be losing information doing this, but for the scope of this project it will suit our purposes."
   ]
  },
  {
   "cell_type": "code",
   "execution_count": 5,
   "metadata": {
    "collapsed": false
   },
   "outputs": [
    {
     "name": "stdout",
     "output_type": "stream",
     "text": [
      "   school_GP  school_MS     sex_F     sex_M       age  address_R  address_U  \\\n",
      "0    0.36305   -0.36305  0.948176 -0.948176  1.023046  -0.535392   0.535392   \n",
      "1    0.36305   -0.36305  0.948176 -0.948176  0.238380  -0.535392   0.535392   \n",
      "2    0.36305   -0.36305  0.948176 -0.948176 -1.330954  -0.535392   0.535392   \n",
      "3    0.36305   -0.36305  0.948176 -0.948176 -1.330954  -0.535392   0.535392   \n",
      "4    0.36305   -0.36305  0.948176 -0.948176 -0.546287  -0.535392   0.535392   \n",
      "\n",
      "   famsize_GT3  famsize_LE3  Pstatus_A    ...      higher  internet  romantic  \\\n",
      "0     0.636941    -0.636941   2.938392    ...     0.23094 -2.232677 -0.708450   \n",
      "1     0.636941    -0.636941  -0.340322    ...     0.23094  0.447893 -0.708450   \n",
      "2    -1.570004     1.570004  -0.340322    ...     0.23094  0.447893 -0.708450   \n",
      "3     0.636941    -0.636941  -0.340322    ...     0.23094  0.447893  1.411533   \n",
      "4     0.636941    -0.636941  -0.340322    ...     0.23094 -2.232677 -0.708450   \n",
      "\n",
      "     famrel  freetime     goout      Dalc      Walc    health  absences  \n",
      "0  0.062194 -0.236010  0.801479 -0.540699 -1.003789 -0.399289  0.036424  \n",
      "1  1.178860 -0.236010 -0.097908 -0.540699 -1.003789 -0.399289 -0.213796  \n",
      "2  0.062194 -0.236010 -0.997295  0.583385  0.551100 -0.399289  0.536865  \n",
      "3 -1.054472 -1.238419 -0.997295 -0.540699 -1.003789  1.041070 -0.464016  \n",
      "4  0.062194 -0.236010 -0.997295 -0.540699 -0.226345  1.041070 -0.213796  \n",
      "\n",
      "[5 rows x 48 columns]\n"
     ]
    }
   ],
   "source": [
    "from sklearn.preprocessing import scale\n",
    "import warnings\n",
    "\n",
    "X_scaled = pd.DataFrame()\n",
    "\n",
    "#Using scale here will give a DataConversionWarning for each feature that changes from int64 to float64. Since the goal is \n",
    "#to have all the data normalized over the same range, this is a necessary step and the warnings can be ignored.\n",
    "with warnings.catch_warnings():\n",
    "    warnings.simplefilter(\"ignore\")\n",
    "    for feature in X_all:\n",
    "        X_scaled[feature] = scale(X_all[feature])\n",
    "        \n",
    "print X_scaled.head()"
   ]
  },
  {
   "cell_type": "markdown",
   "metadata": {},
   "source": [
    "### Implementation: Training and Testing Data Split\n",
    "So far, we have converted all _categorical_ features into numeric values. For the next step, we split the data (both features and corresponding labels) into training and test sets. In the following code cell below, you will need to implement the following:\n",
    "- Randomly shuffle and split the data (`X_all`, `y_all`) into training and testing subsets.\n",
    "  - Use 300 training points (approximately 75%) and 95 testing points (approximately 25%).\n",
    "  - Set a `random_state` for the function(s) you use, if provided.\n",
    "  - Store the results in `X_train`, `X_test`, `y_train`, and `y_test`."
   ]
  },
  {
   "cell_type": "code",
   "execution_count": 6,
   "metadata": {
    "collapsed": false
   },
   "outputs": [
    {
     "name": "stdout",
     "output_type": "stream",
     "text": [
      "Training set has 300 samples.\n",
      "Testing set has 95 samples.\n"
     ]
    }
   ],
   "source": [
    "RANDOM_STATE = 10\n",
    "\n",
    "# TODO: Import any additional functionality you may need here\n",
    "from sklearn.cross_validation import train_test_split\n",
    "\n",
    "# TODO: Set the number of training points\n",
    "num_train = 300\n",
    "\n",
    "# Set the number of testing points\n",
    "num_test = X_scaled.shape[0] - num_train\n",
    "\n",
    "# TODO: Shuffle and split the dataset into the number of training and testing points above\n",
    "X_train, X_test, y_train, y_test = train_test_split(X_all, y_all, stratify=y_all, train_size = num_train, \n",
    "                                                    random_state = RANDOM_STATE)\n",
    "\n",
    "# Shuffle and split the scaled dataset in the same fashion\n",
    "X_scaled_train, X_scaled_test, y_scaled_train, y_scaled_test = train_test_split(X_scaled, y_all, stratify=y_all,\n",
    "                                                                                train_size = num_train, \n",
    "                                                                                random_state = RANDOM_STATE)\n",
    "\n",
    "# Show the results of the split\n",
    "print \"Training set has {} samples.\".format(X_train.shape[0])\n",
    "print \"Testing set has {} samples.\".format(X_test.shape[0])"
   ]
  },
  {
   "cell_type": "markdown",
   "metadata": {},
   "source": [
    "### Balancing the Training Data\n",
    "Having an imbalanced dataset can be problematic, it causes issues as a model can appear to be performing better by favoring the majority class. For example: our dataset being predominately students who passed, the F1 score for a model which always assumes a student will pass is over .8! To counteract this we can oversample the minority class using the SMOTE algorithm to create synthetic samples to achieve balance."
   ]
  },
  {
   "cell_type": "code",
   "execution_count": 7,
   "metadata": {
    "collapsed": false
   },
   "outputs": [
    {
     "name": "stdout",
     "output_type": "stream",
     "text": [
      "Total number of training points with over-sampling: 402\n",
      "New ratio of passing to not passing samples: 0.5\n"
     ]
    }
   ],
   "source": [
    "from imblearn.over_sampling import SMOTE\n",
    "\n",
    "# Use SMOTE to create synthetic samples to balance training data\n",
    "sm = SMOTE(kind='borderline2',random_state=RANDOM_STATE)\n",
    "X_balanced, y_balanced = sm.fit_sample(X_train,y_train)\n",
    "X_scaled_balanced, y_scaled_balanced = sm.fit_sample(X_scaled_train,y_scaled_train)\n",
    "\n",
    "# Maintain unmodified training data for project questions\n",
    "X_train_unbalanced = pd.DataFrame(data=X_train)\n",
    "y_train_unbalanced = pd.Series(data=y_train)\n",
    "\n",
    "# Update training data with synthetic samples\n",
    "X_train = pd.DataFrame(data = X_balanced, columns = X_train.columns)\n",
    "y_train = pd.Series(data = y_balanced)\n",
    "\n",
    "X_scaled_train = pd.DataFrame(data = X_scaled_balanced, columns = X_train.columns)\n",
    "y_scaled_train = pd.Series(data = y_scaled_balanced)\n",
    "\n",
    "print \"Total number of training points with over-sampling: {}\".format(len(X_train))\n",
    "print \"New ratio of passing to not passing samples: {}\".format(y_train.value_counts()['yes']/float(len(y_train)))"
   ]
  },
  {
   "cell_type": "markdown",
   "metadata": {},
   "source": [
    "## Training and Evaluating Models\n",
    "In this section, you will choose 3 supervised learning models that are appropriate for this problem and available in `scikit-learn`. You will first discuss the reasoning behind choosing these three models by considering what you know about the data and each model's strengths and weaknesses. You will then fit the model to varying sizes of training data (100 data points, 200 data points, and 300 data points) and measure the F<sub>1</sub> score. You will need to produce three tables (one for each model) that shows the training set size, training time, prediction time, F<sub>1</sub> score on the training set, and F<sub>1</sub> score on the testing set.\n",
    "\n",
    "**The following supervised learning models are currently available in** [`scikit-learn`](http://scikit-learn.org/stable/supervised_learning.html) **that you may choose from:**\n",
    "- Gaussian Naive Bayes (GaussianNB)\n",
    "- Decision Trees\n",
    "- Ensemble Methods (Bagging, AdaBoost, Random Forest, Gradient Boosting)\n",
    "- K-Nearest Neighbors (KNeighbors)\n",
    "- Stochastic Gradient Descent (SGDC)\n",
    "- Support Vector Machines (SVM)\n",
    "- Logistic Regression"
   ]
  },
  {
   "cell_type": "markdown",
   "metadata": {},
   "source": [
    "### Question 2 - Model Application\n",
    "*List three supervised learning models that are appropriate for this problem. For each model chosen*\n",
    "- Describe one real-world application in industry where the model can be applied. *(You may need to do a small bit of research for this — give references!)* \n",
    "- What are the strengths of the model; when does it perform well? \n",
    "- What are the weaknesses of the model; when does it perform poorly?\n",
    "- What makes this model a good candidate for the problem, given what you know about the data?"
   ]
  },
  {
   "cell_type": "markdown",
   "metadata": {},
   "source": [
    "**Answer: **\n",
    "This seemed a fairly crucial part of the process, so rather than pick out three to focus on I looked into all of them. I've chosen three here that seemed would be the best choices and/or best to practice with, but a more comprehensive (though less well formatted) answer can be found in model_evaluations.txt in the project folder of the repo.\n",
    "\n",
    "1. Gaussian Naive Bayes\n",
    "  1. Classifying a person's cognitive activity based on brain imaging, as described here:\n",
    "    https://www.cs.cmu.edu/~tom/10601_sp09/lectures/NBayes2_2-2-2009-ann.pdf\n",
    "  2. GNB is efficient in both learning and predicting, and works well with a small feature-to-sample ratio. It outputs in probabilities, rather than binary classification, which can be useful in decision making based on predictions.\n",
    "  3. GNB is bad at regression. It also assumes conditional independence, so for datasets with strong intercorrelations it does poorly. It's a fairly simple model, and as such has a high bias and low variance as compared with other models (e.g. LR)\n",
    "  4.  Our dataset is fairly small, with a relatively large number of features, which is where Naive Bayes does well. It is also very efficient, which was a requirement of the job. I don't expect GNB to be the best choice, it's very simple and the assumptions that features are independent and fit a standard distribution may not be wise, but it can serve as a good baseline.\n",
    "\n",
    "2. Random Forest\n",
    "  1. \"Decision trees have been used for the detection of physical particles\", i.e. quarks. Source, along with many other \n",
    "examples, here:\n",
    "http://www.cbcb.umd.edu/~salzberg/docs/murthy_thesis/survey/node32.html\n",
    "  2. Decision trees work well with non-linear relationships and can provide very intuitive and easily visualized explanations for predictions. They work well out of the box, as feature selection is done automatically and doesn't require scaling. Random Forest is a bagging method which reduces the variance of decision trees, their biggest weakness.\n",
    "  3. Decision trees are prone to overfitting and local optima, though this is mitigated using Random Trees. It's also somewhat unstable, as small changes in the data have the potential to result in a completely different tree. The ease of interpretation breaks down as the model gets more complex, such as in an ensemble method like Random Forest.\n",
    "  4. Random Forest is accurate and efficient out of the box, doing the work of feature selection automatically and mitigating the problems of lone decision trees. It can also tell us the importance of each feature, which could potentially not only predict potential failures but provide actionable suggestions for interventions.\n",
    "\n",
    "3. Support Vector Machine\n",
    "  1. Text categorization, e.g. classifying Usenet News messages as computation, religion, statistics, etc. As described, \n",
    "along with other examples, here:\n",
    "https://arxiv.org/pdf/math/0612817.pdf\n",
    "  2. Support vector machines are good at handling a large feature space, as well as non-linear relationships. They're versatile, and provide a lot of opportunity for tuning.\n",
    "  3. SVMs aren't great when the classes aren't seperable or there isn't enough margin (though a different kernel could alleviate those problems). They're also sensitive to feature scaling so, while versatile, their hyperparamater needs mean that it can be a lot of work to set up.\n",
    "  4. Looking at the data it seems a reasonable assumption that the relationship is non-linear. We also have a small dataset, so it should be very efficient."
   ]
  },
  {
   "cell_type": "markdown",
   "metadata": {},
   "source": [
    "### Setup\n",
    "Run the code cell below to initialize three helper functions which you can use for training and testing the three supervised learning models you've chosen above. The functions are as follows:\n",
    "- `train_classifier` - takes as input a classifier and training data and fits the classifier to the data.\n",
    "- `predict_labels` - takes as input a fit classifier, features, and a target labeling and makes predictions using the F<sub>1</sub> score.\n",
    "- `train_predict` - takes as input a classifier, and the training and testing data, and performs `train_clasifier` and `predict_labels`.\n",
    " - This function will report the F<sub>1</sub> score for both the training and testing data separately."
   ]
  },
  {
   "cell_type": "code",
   "execution_count": 8,
   "metadata": {
    "collapsed": false
   },
   "outputs": [],
   "source": [
    "def train_classifier(clf, X_train, y_train):\n",
    "    ''' Fits a classifier to the training data. '''\n",
    "    \n",
    "    # Start the clock, train the classifier, then stop the clock\n",
    "    start = time()\n",
    "    clf.fit(X_train, y_train)\n",
    "    end = time()\n",
    "    \n",
    "    # Print the results\n",
    "    print \"Trained model in {:.4f} seconds\".format(end - start)\n",
    "\n",
    "    \n",
    "def predict_labels(clf, features, target):\n",
    "    ''' Makes predictions using a fit classifier based on F1 score. '''\n",
    "    \n",
    "    # Start the clock, make predictions, then stop the clock\n",
    "    start = time()\n",
    "    y_pred = clf.predict(features)\n",
    "    end = time()\n",
    "    \n",
    "    # Print and return results\n",
    "    print \"Made predictions in {:.4f} seconds.\".format(end - start)\n",
    "    return f1_score(target.values, y_pred, pos_label='yes')\n",
    "\n",
    "\n",
    "def train_predict(clf, X_train, y_train, X_test, y_test):\n",
    "    ''' Train and predict using a classifer based on F1 score. '''\n",
    "    \n",
    "    # Indicate the classifier and the training set size\n",
    "    print \"Training a {} using a training set size of {}. . .\".format(clf.__class__.__name__, len(X_train))\n",
    "    \n",
    "    # Train the classifier\n",
    "    train_classifier(clf, X_train, y_train)\n",
    "    \n",
    "    # Print the results of prediction for both training and testing\n",
    "    print \"F1 score for training set: {:.4f}.\".format(predict_labels(clf, X_train, y_train))\n",
    "    print \"F1 score for test set: {:.4f}.\".format(predict_labels(clf, X_test, y_test))"
   ]
  },
  {
   "cell_type": "markdown",
   "metadata": {},
   "source": [
    "### Implementation: Model Performance Metrics\n",
    "With the predefined functions above, you will now import the three supervised learning models of your choice and run the `train_predict` function for each one. Remember that you will need to train and predict on each classifier for three different training set sizes: 100, 200, and 300. Hence, you should expect to have 9 different outputs below — 3 for each model using the varying training set sizes. In the following code cell, you will need to implement the following:\n",
    "- Import the three supervised learning models you've discussed in the previous section.\n",
    "- Initialize the three models and store them in `clf_A`, `clf_B`, and `clf_C`.\n",
    " - Use a `random_state` for each model you use, if provided.\n",
    " - **Note:** Use the default settings for each model — you will tune one specific model in a later section.\n",
    "- Create the different training set sizes to be used to train each model.\n",
    " - *Do not reshuffle and resplit the data! The new training points should be drawn from `X_train` and `y_train`.*\n",
    "- Fit each model with each training set size and make predictions on the test set (9 in total).  \n",
    "**Note:** Three tables are provided after the following code cell which can be used to store your results."
   ]
  },
  {
   "cell_type": "code",
   "execution_count": 9,
   "metadata": {
    "collapsed": false
   },
   "outputs": [
    {
     "name": "stdout",
     "output_type": "stream",
     "text": [
      "Training a GaussianNB using a training set size of 100. . .\n",
      "Trained model in 0.0020 seconds\n",
      "Made predictions in 0.0010 seconds.\n",
      "F1 score for training set: 0.8467.\n",
      "Made predictions in 0.0000 seconds.\n",
      "F1 score for test set: 0.7538.\n",
      "Training a GaussianNB using a training set size of 200. . .\n",
      "Trained model in 0.0010 seconds\n",
      "Made predictions in 0.0000 seconds.\n",
      "F1 score for training set: 0.8205.\n",
      "Made predictions in 0.0010 seconds.\n",
      "F1 score for test set: 0.7576.\n",
      "Training a GaussianNB using a training set size of 300. . .\n",
      "Trained model in 0.0010 seconds\n",
      "Made predictions in 0.0010 seconds.\n",
      "F1 score for training set: 0.8106.\n",
      "Made predictions in 0.0000 seconds.\n",
      "F1 score for test set: 0.7786.\n",
      "\n",
      "Training a RandomForestClassifier using a training set size of 100. . .\n",
      "Trained model in 0.0330 seconds\n",
      "Made predictions in 0.0020 seconds.\n",
      "F1 score for training set: 0.9925.\n",
      "Made predictions in 0.0010 seconds.\n",
      "F1 score for test set: 0.7353.\n",
      "Training a RandomForestClassifier using a training set size of 200. . .\n",
      "Trained model in 0.0750 seconds\n",
      "Made predictions in 0.0020 seconds.\n",
      "F1 score for training set: 0.9963.\n",
      "Made predictions in 0.0020 seconds.\n",
      "F1 score for test set: 0.7761.\n",
      "Training a RandomForestClassifier using a training set size of 300. . .\n",
      "Trained model in 0.0350 seconds\n",
      "Made predictions in 0.0020 seconds.\n",
      "F1 score for training set: 0.9900.\n",
      "Made predictions in 0.0020 seconds.\n",
      "F1 score for test set: 0.7538.\n",
      "\n",
      "Training a SVC using a training set size of 100. . .\n",
      "Trained model in 0.0030 seconds\n",
      "Made predictions in 0.0020 seconds.\n",
      "F1 score for training set: 0.8375.\n",
      "Made predictions in 0.0020 seconds.\n",
      "F1 score for test set: 0.7975.\n",
      "Training a SVC using a training set size of 200. . .\n",
      "Trained model in 0.0050 seconds\n",
      "Made predictions in 0.0050 seconds.\n",
      "F1 score for training set: 0.8750.\n",
      "Made predictions in 0.0030 seconds.\n",
      "F1 score for test set: 0.7895.\n",
      "Training a SVC using a training set size of 300. . .\n",
      "Trained model in 0.0150 seconds\n",
      "Made predictions in 0.0110 seconds.\n",
      "F1 score for training set: 0.8602.\n",
      "Made predictions in 0.0030 seconds.\n",
      "F1 score for test set: 0.8212.\n"
     ]
    }
   ],
   "source": [
    "# TODO: Import the three supervised learning models from sklearn\n",
    "from sklearn.naive_bayes import GaussianNB\n",
    "from sklearn.ensemble import RandomForestClassifier\n",
    "from sklearn.svm import SVC\n",
    "\n",
    "# TODO: Initialize the three models\n",
    "clf_A = GaussianNB()\n",
    "clf_B = RandomForestClassifier(random_state = RANDOM_STATE)\n",
    "clf_C = SVC(random_state = RANDOM_STATE)\n",
    "\n",
    "# TODO: Set up the training set sizes\n",
    "X_train_100 = X_train_unbalanced[:100]\n",
    "y_train_100 = y_train_unbalanced[:100]\n",
    "\n",
    "X_train_200 = X_train_unbalanced[:200]\n",
    "y_train_200 = y_train_unbalanced[:200]\n",
    "\n",
    "X_train_300 = X_train_unbalanced\n",
    "y_train_300 = y_train_unbalanced\n",
    "\n",
    "# TODO: Execute the 'train_predict' function for each classifier and each training set size\n",
    "train_predict(clf_A, X_train_100, y_train_100, X_test, y_test)\n",
    "train_predict(clf_A, X_train_200, y_train_200, X_test, y_test)\n",
    "train_predict(clf_A, X_train_300, y_train_300, X_test, y_test)\n",
    "print ''\n",
    "train_predict(clf_B, X_train_100, y_train_100, X_test, y_test)\n",
    "train_predict(clf_B, X_train_200, y_train_200, X_test, y_test)\n",
    "train_predict(clf_B, X_train_300, y_train_300, X_test, y_test)\n",
    "print ''\n",
    "train_predict(clf_C, X_train_100, y_train_100, X_test, y_test)\n",
    "train_predict(clf_C, X_train_200, y_train_200, X_test, y_test)\n",
    "train_predict(clf_C, X_train_300, y_train_300, X_test, y_test)"
   ]
  },
  {
   "cell_type": "markdown",
   "metadata": {},
   "source": [
    "### Tabular Results\n",
    "Edit the cell below to see how a table can be designed in [Markdown](https://github.com/adam-p/markdown-here/wiki/Markdown-Cheatsheet#tables). You can record your results from above in the tables provided."
   ]
  },
  {
   "cell_type": "markdown",
   "metadata": {},
   "source": [
    "** Classifier 1 - Gaussian Naive Bayes**  \n",
    "\n",
    "| Training Set Size | Training Time | Prediction Time (test) | F1 Score (train) | F1 Score (test) |\n",
    "| :---------------: | :---------------------: | :--------------------: | :--------------: | :-------------: |\n",
    "| 100               | 0.0020                  | 0.0010                 | 0.8467           | 0.7538          |\n",
    "| 200               | 0.0020                  | 0.0010                 | 0.8205           | 0.7576          |\n",
    "| 300               | 0.0020                  | 0.0010                 | 0.8106           | 0.7786          |\n",
    "\n",
    "** Classifier 2 - Random Forest**  \n",
    "\n",
    "| Training Set Size | Training Time | Prediction Time (test) | F1 Score (train) | F1 Score (test) |\n",
    "| :---------------: | :---------------------: | :--------------------: | :--------------: | :-------------: |\n",
    "| 100               | 0.0400                  | 0.0020                 | 0.9925           | 0.7353          |\n",
    "| 200               | 0.0320                  | 0.0010                 | 0.9963           | 0.7716          |\n",
    "| 300               | 0.0390                  | 0.0020                 | 0.9900           | 0.7538          |\n",
    "\n",
    "** Classifier 3 - Support Vector Machine**  \n",
    "\n",
    "| Training Set Size | Training Time | Prediction Time (test) | F1 Score (train) | F1 Score (test) |\n",
    "| :---------------: | :---------------------: | :--------------------: | :--------------: | :-------------: |\n",
    "| 100               | 0.0020                  | 0.0010                 | 0.8375           | 0.7975          |\n",
    "| 200               | 0.0040                  | 0.0030                 | 0.8750           | 0.7895          |\n",
    "| 300               | 0.0090                  | 0.0060                 | 0.8602           | 0.8212          |"
   ]
  },
  {
   "cell_type": "markdown",
   "metadata": {},
   "source": [
    "### Model Performance Using Balanced Training Data\n",
    "Here I repeat the test on the full training set using the balanced data. In the case of the SVM the scaled and balanced data is used."
   ]
  },
  {
   "cell_type": "code",
   "execution_count": 10,
   "metadata": {
    "collapsed": false
   },
   "outputs": [
    {
     "name": "stdout",
     "output_type": "stream",
     "text": [
      "Training a GaussianNB using a training set size of 402. . .\n",
      "Trained model in 0.0030 seconds\n",
      "Made predictions in 0.0010 seconds.\n",
      "F1 score for training set: 0.7586.\n",
      "Made predictions in 0.0000 seconds.\n",
      "F1 score for test set: 0.7377.\n",
      "\n",
      "Training a RandomForestClassifier using a training set size of 402. . .\n",
      "Trained model in 0.0400 seconds\n",
      "Made predictions in 0.0020 seconds.\n",
      "F1 score for training set: 0.9925.\n",
      "Made predictions in 0.0020 seconds.\n",
      "F1 score for test set: 0.6667.\n",
      "\n",
      "Training a SVC using a training set size of 402. . .\n",
      "Trained model in 0.0150 seconds\n",
      "Made predictions in 0.0000 seconds.\n",
      "F1 score for training set: 0.9578.\n",
      "Made predictions in 0.0160 seconds.\n",
      "F1 score for test set: 0.7883.\n"
     ]
    }
   ],
   "source": [
    "train_predict(clf_A, X_train, y_train, X_test, y_test)\n",
    "print ''\n",
    "train_predict(clf_B, X_train, y_train, X_test, y_test)\n",
    "print ''\n",
    "train_predict(clf_C, X_scaled_train, y_scaled_train, X_scaled_test, y_scaled_test)"
   ]
  },
  {
   "cell_type": "markdown",
   "metadata": {},
   "source": [
    "**Default Model Performance Using Balanced Data**  \n",
    "\n",
    "| Classifier        | Training Time | Prediction Time (test) | F1 Score (train) | F1 Score (test) |\n",
    "| :---------------: | :---------------------: | :--------------------: | :--------------: | :-------------: |\n",
    "| GaussianNB        | 0.0040                  | 0.0010                 | 0.7458           | 0.7742          |\n",
    "| RandomForest      | 0.0680                  | 0.0020                 | 0.9899           | 0.6949          |\n",
    "| SVC               | 0.0260                  | 0.0050                 | 0.9447           | 0.7737          |"
   ]
  },
  {
   "cell_type": "markdown",
   "metadata": {},
   "source": [
    "### Confusion Matrices<sup>1</sup>\n",
    "A better sense of how each model is performing can be gained through a visualization, in this case plotting the confusion matrix of each default model."
   ]
  },
  {
   "cell_type": "code",
   "execution_count": 11,
   "metadata": {
    "collapsed": false
   },
   "outputs": [
    {
     "data": {
      "image/png": "[encoded data removed]",
      "text/plain": [
       "<matplotlib.figure.Figure at 0xb1b1978>"
      ]
     },
     "metadata": {},
     "output_type": "display_data"
    }
   ],
   "source": [
    "# Plot a confusion matrix as a heatmap for each model\n",
    "from sklearn.metrics import confusion_matrix\n",
    "import seaborn as sns\n",
    "import matplotlib.pyplot as plt\n",
    "%matplotlib inline\n",
    "\n",
    "# Compute confusion matrices\n",
    "cm_A = confusion_matrix(y_test.values, clf_A.predict(X_test))\n",
    "cm_B = confusion_matrix(y_test.values, clf_B.predict(X_test))\n",
    "cm_C = confusion_matrix(y_scaled_test.values, clf_C.predict(X_scaled_test))\n",
    "\n",
    "# view with a heatmap\n",
    "sns.heatmap(cm_A, annot=True, cmap='Blues', xticklabels=['no', 'yes'], yticklabels=['no', 'yes'])\n",
    "plt.ylabel('True label')\n",
    "plt.xlabel('Predicted label')\n",
    "plt.title('Confusion matrix for:\\n{}'.format(clf_A.__class__.__name__));"
   ]
  },
  {
   "cell_type": "code",
   "execution_count": 12,
   "metadata": {
    "collapsed": false
   },
   "outputs": [
    {
     "data": {
      "image/png": "[encoded data removed]",
      "text/plain": [
       "<matplotlib.figure.Figure at 0x9ce6668>"
      ]
     },
     "metadata": {},
     "output_type": "display_data"
    }
   ],
   "source": [
    "sns.heatmap(cm_B, annot=True, cmap='Blues', xticklabels=['no', 'yes'], yticklabels=['no', 'yes'])\n",
    "plt.ylabel('True label')\n",
    "plt.xlabel('Predicted label')\n",
    "plt.title('Confusion matrix for:\\n{}'.format(clf_B.__class__.__name__));"
   ]
  },
  {
   "cell_type": "code",
   "execution_count": 13,
   "metadata": {
    "collapsed": false
   },
   "outputs": [
    {
     "data": {
      "image/png": "[encoded data removed]",
      "text/plain": [
       "<matplotlib.figure.Figure at 0x9ce6588>"
      ]
     },
     "metadata": {},
     "output_type": "display_data"
    }
   ],
   "source": [
    "sns.heatmap(cm_C, annot=True, cmap='Blues', xticklabels=['no', 'yes'], yticklabels=['no', 'yes'])\n",
    "plt.ylabel('True label')\n",
    "plt.xlabel('Predicted label')\n",
    "plt.title('Confusion matrix for:\\n{}'.format(clf_C.__class__.__name__));"
   ]
  },
  {
   "cell_type": "markdown",
   "metadata": {},
   "source": [
    "## Choosing the Best Model\n",
    "In this final section, you will choose from the three supervised learning models the *best* model to use on the student data. You will then perform a grid search optimization for the model over the entire training set (`X_train` and `y_train`) by tuning at least one parameter to improve upon the untuned model's F<sub>1</sub> score. "
   ]
  },
  {
   "cell_type": "markdown",
   "metadata": {},
   "source": [
    "### Question 3 - Choosing the Best Model\n",
    "*Based on the experiments you performed earlier, in one to two paragraphs, explain to the board of supervisors what single model you chose as the best model. Which model is generally the most appropriate based on the available data, limited resources, cost, and performance?*"
   ]
  },
  {
   "cell_type": "markdown",
   "metadata": {},
   "source": [
    "**Answer: **\n",
    "\n",
    "  The problem we're trying to solve can be broken down into a few key parts. First, our dataset is very small and the majority of students passed. We're trying to model a student who is at risk of not passing, leaving us very few examples of the sort of student we're looking for, so we desperately need to avoid overfitting - that is, not assuming the examples we do have are a perfect representation of all at risk students. Second, our feature set is likewise small but, more importantly, we don't know anything about how strong the effect of any given feature might be, both on the outcome and on the other features. Regardless of the model we choose we'll have to manage this somehow, but ideally we choose a model that doesn't just predict at risk students but is transparent enough to inform on why a student may be at risk. Then we not only know when to intervene, but have potential actionable suggestions as to how. Lastly, the question of efficiency. Frankly, this dataset is small enough that we'd be hard pressed to make a model that takes any significant resources making predictions, but that's no reason to be lazy about it.\n",
    "\n",
    "These three problems are dealt with readily by a Random Forest classifier. It'll work well with a small amount of data and counteracts overfitting by design, it'll weigh feature importance automatically and make retrieving those weights straightforward, and as a bonus it will be very efficient to train and make predictions with. It's a very popular model to use for tasks like this, and for good reason.\n",
    "\n",
    "**Note: ** This decision is not based solely on the numbers above, as the question asks for, as I found RANDOM_STATE to have an enormous affect on the models sans parameter tuning and felt that that was not a reasonable method of choosing a model. Across a range of random states the random forest and support vector machine both had roughly the same performance, so other justification was needed."
   ]
  },
  {
   "cell_type": "markdown",
   "metadata": {},
   "source": [
    "### Question 4 - Model in Layman's Terms\n",
    "*In one to two paragraphs, explain to the board of directors in layman's terms how the final model chosen is supposed to work. Be sure that you are describing the major qualities of the model, such as how the model is trained and how the model makes a prediction. Avoid using advanced mathematical or technical jargon, such as describing equations or discussing the algorithm implementation.*"
   ]
  },
  {
   "cell_type": "markdown",
   "metadata": {},
   "source": [
    "**Answer: **\n",
    "\n",
    "Everyone's used a flow chart before, right? You start at the top then follow one path or the other depending on what it says. Like if we wanted to know what species a tree was we might have a flow chart that starts by asking \"does it have needles? Go left. Leaves? Go right.\" And we follow it down until we get to a question so specific it must be just one species of tree. Decision tree is just another name for a flow chart, and you build one in much the same way - you go through the possible questions and pick the most general one, like leaves versus needles, then get more and more specific until you only have one possibility for what you're looking at.\n",
    "\n",
    "Our case of trying to identify students who need intervention isn't as straightforward as identifying trees though. We can build a decision tree based of the information we have about previous students, maybe it would ask 'does the student have internet access? Go left. No? Go right.' But how do we know which question to ask first? And what does this mean for new students? No two students are as similar as species of tree. This is where the Random Forest technique comes in: instead of making one tree, we make many trees. For each one we'll look at a different selection of the previous students and a different set of the possible questions and let it decide which questions to ask and in what order. Maybe it does a good job, maybe not, but then when we have a student we want to assess we pass their information into every one of our many trees and have them all vote on an answer. In aggregate you end up with a much better answer than any one tree could provide on its own."
   ]
  },
  {
   "cell_type": "markdown",
   "metadata": {},
   "source": [
    "### Implementation: Model Tuning\n",
    "Fine tune the chosen model. Use grid search (`GridSearchCV`) with at least one important parameter tuned with at least 3 different values. You will need to use the entire training set for this. In the code cell below, you will need to implement the following:\n",
    "- Import [`sklearn.grid_search.gridSearchCV`](http://scikit-learn.org/stable/modules/generated/sklearn.grid_search.GridSearchCV.html) and [`sklearn.metrics.make_scorer`](http://scikit-learn.org/stable/modules/generated/sklearn.metrics.make_scorer.html).\n",
    "- Create a dictionary of parameters you wish to tune for the chosen model.\n",
    " - Example: `parameters = {'parameter' : [list of values]}`.\n",
    "- Initialize the classifier you've chosen and store it in `clf`.\n",
    "- Create the F<sub>1</sub> scoring function using `make_scorer` and store it in `f1_scorer`.\n",
    " - Set the `pos_label` parameter to the correct value!\n",
    "- Perform grid search on the classifier `clf` using `f1_scorer` as the scoring method, and store it in `grid_obj`.\n",
    "- Fit the grid search object to the training data (`X_train`, `y_train`), and store it in `grid_obj`."
   ]
  },
  {
   "cell_type": "code",
   "execution_count": 14,
   "metadata": {
    "collapsed": false
   },
   "outputs": [
    {
     "name": "stdout",
     "output_type": "stream",
     "text": [
      "Made predictions in 0.0160 seconds.\n",
      "Tuned RF model has a training F1 score of 1.0000.\n",
      "Made predictions in 0.0000 seconds.\n",
      "Tuned RF model has a testing F1 score of 0.8028.\n",
      "{'n_estimators': 95, 'warm_start': True, 'oob_score': True, 'criterion': 'entropy'}\n",
      "0.705263157895\n"
     ]
    }
   ],
   "source": [
    "# TODO: Import 'GridSearchCV' and 'make_scorer'\n",
    "from sklearn.grid_search import GridSearchCV\n",
    "from sklearn.metrics import make_scorer\n",
    "\n",
    "# TODO: Create the parameters list you wish to tune\n",
    "n_estimators_range = range(40,106,5)\n",
    "parameters_RF = {'n_estimators':n_estimators_range,'oob_score':[True], 'warm_start':[True], 'criterion':['gini','entropy']}\n",
    "\n",
    "#Default parameters for Random Forest, for reference\n",
    "\"\"\"n_estimators=10, criterion='gini', max_depth=None, min_samples_split=2, min_samples_leaf=1, min_weight_fraction_leaf=0.0, \n",
    "max_features='auto', max_leaf_nodes=None, bootstrap=True, oob_score=False, n_jobs=1, random_state=None, verbose=0, \n",
    "warm_start=False, class_weight=None\"\"\"\n",
    "\n",
    "# TODO: Initialize the classifier\n",
    "clf_RF = RandomForestClassifier(random_state = RANDOM_STATE)\n",
    "\n",
    "# TODO: Make an f1 scoring function using 'make_scorer' \n",
    "f1_scorer = make_scorer(f1_score,pos_label='yes')\n",
    "\n",
    "# TODO: Perform grid search on the classifier using the f1_scorer as the scoring method\n",
    "grid_obj_RF = GridSearchCV(estimator = clf_RF, param_grid = parameters_RF, cv = 5, scoring = f1_scorer)\n",
    "\n",
    "# TODO: Fit the grid search object to the training data and find the optimal parameters\n",
    "grid_obj_RF = grid_obj_RF.fit(X_train,y_train)\n",
    "\n",
    "# Get the estimator\n",
    "clf_RF = grid_obj_RF.best_estimator_\n",
    "\n",
    "# Report the final F1 score for training and testing after parameter tuning\n",
    "print \"Tuned RF model has a training F1 score of {:.4f}.\".format(predict_labels(clf_RF, X_train, y_train))\n",
    "print \"Tuned RF model has a testing F1 score of {:.4f}.\".format(predict_labels(clf_RF, X_test, y_test))\n",
    "\n",
    "print grid_obj_RF.best_params_\n",
    "print clf_RF.score(X_test,y_test)"
   ]
  },
  {
   "cell_type": "markdown",
   "metadata": {},
   "source": [
    "### Visualizing GridSearchCV<sup>2</sup>"
   ]
  },
  {
   "cell_type": "code",
   "execution_count": 15,
   "metadata": {
    "collapsed": false
   },
   "outputs": [
    {
     "data": {
      "text/plain": [
       "<matplotlib.text.Text at 0xb810630>"
      ]
     },
     "execution_count": 15,
     "metadata": {},
     "output_type": "execute_result"
    },
    {
     "data": {
      "image/png": "[encoded data removed]",
      "text/plain": [
       "<matplotlib.figure.Figure at 0xb1f4470>"
      ]
     },
     "metadata": {},
     "output_type": "display_data"
    }
   ],
   "source": [
    "scores = [x[1] for x in grid_obj_RF.grid_scores_]\n",
    "scores = np.array(scores).reshape(2,len(n_estimators_range))\n",
    "\n",
    "sns.heatmap(scores, annot = True, xticklabels = n_estimators_range, yticklabels = ['gini','entropy'])\n",
    "sns.axlabel('n_estimators','criterion')\n",
    "plt.title('Best parameters for RFC')"
   ]
  },
  {
   "cell_type": "code",
   "execution_count": 16,
   "metadata": {
    "collapsed": false
   },
   "outputs": [
    {
     "data": {
      "image/png": "[encoded data removed]",
      "text/plain": [
       "<matplotlib.figure.Figure at 0xb6f7748>"
      ]
     },
     "metadata": {},
     "output_type": "display_data"
    }
   ],
   "source": [
    "# Confusion matrix for the tuned model\n",
    "cm_RF = confusion_matrix(y_test.values, clf_RF.predict(X_test))\n",
    "sns.heatmap(cm_RF, annot=True, cmap='Blues', xticklabels=['no', 'yes'], yticklabels=['no', 'yes'])\n",
    "plt.ylabel('True label')\n",
    "plt.xlabel('Predicted label')\n",
    "plt.title('Confusion matrix for:\\n{}'.format(clf_C.__class__.__name__));"
   ]
  },
  {
   "cell_type": "markdown",
   "metadata": {},
   "source": [
    "### SVM Tuning\n",
    "I ran the optimization on both the random forest classifier and support vector machine classifier, despite answering \n",
    "questions as if having chosen just random forest. This was for two reasons: first, I didn't know which was better and felt the \n",
    "default settings were a poor way of judging, and second because I know these are popular algorithms and wanted practice with \n",
    "both regardless of the outcome. The parameter tuning for SVM is below. Note that, as the confusion matrix shows, the tuned classifier favors labeling everything 'yes'. Since this wasn't my main choice I didn't put in the effort to steer it away from this, but it's a good example of the accuracy paradox since the untuned model isn't so extreme despite scoring lower."
   ]
  },
  {
   "cell_type": "code",
   "execution_count": 17,
   "metadata": {
    "collapsed": false
   },
   "outputs": [
    {
     "name": "stdout",
     "output_type": "stream",
     "text": [
      "Made predictions in 0.0000 seconds.\n",
      "Tuned SVM model has a training F1 score of 1.0000.\n",
      "Made predictions in 0.0000 seconds.\n",
      "Tuned SVM model has a testing F1 score of 0.7871.\n",
      "{'kernel': 'rbf', 'C': 5.0396841995794928, 'gamma': 0.086369554997986014}\n"
     ]
    }
   ],
   "source": [
    "# TODO: Import 'GridSearchCV' and 'make_scorer'\n",
    "from sklearn.grid_search import GridSearchCV\n",
    "from sklearn.metrics import make_scorer\n",
    "\n",
    "# TODO: Create the parameters list you wish to tune\n",
    "\n",
    "#Coarse parameter grid - test 2**x over range, incrementing by x+2\n",
    "#C_range = np.logspace(-5,15,base=2,num=11)\n",
    "#g_range = np.logspace(-15,3,base=2,num=10)\n",
    "#parameters_SVM = {'C':C_range,'gamma':g_range,'kernel':['rbf','sigmoid']}\n",
    "\n",
    "#Fine parameter grid - incrementing by x+.25 in neighborhood of best choice from above\n",
    "C_range = np.logspace(0,21,base=2,num=10)\n",
    "g_range = np.logspace(-5,-2.8,base=2,num=10)\n",
    "parameters_SVM = {'C':C_range,'gamma':g_range,'kernel':['rbf']}\n",
    "\n",
    "#Default parameters for SVM, for reference\n",
    "\"\"\"C=1.0, kernel='rbf', degree=3, gamma='auto', coef0=0.0, shrinking=True, probability=False, tol=0.001, cache_size=200, \n",
    "class_weight=None, verbose=False, max_iter=-1, decision_function_shape=None, random_state=None\"\"\"\n",
    "\n",
    "# TODO: Initialize the classifier\n",
    "clf_SVM = SVC(random_state = RANDOM_STATE)\n",
    "\n",
    "# TODO: Make an f1 scoring function using 'make_scorer' \n",
    "f1_scorer = make_scorer(f1_score,pos_label='yes')\n",
    "\n",
    "# TODO: Perform grid search on the classifier using the f1_scorer as the scoring method\n",
    "grid_obj_SVM = GridSearchCV(estimator = clf_SVM, param_grid = parameters_SVM, cv=10, scoring = f1_scorer)\n",
    "\n",
    "# TODO: Fit the grid search object to the training data and find the optimal parameters\n",
    "grid_obj_SVM = grid_obj_SVM.fit(X_scaled_train,y_scaled_train)\n",
    "\n",
    "# Get the estimator\n",
    "clf_SVM = grid_obj_SVM.best_estimator_\n",
    "\n",
    "# Report the final F1 score for training and testing after parameter tuning\n",
    "print \"Tuned SVM model has a training F1 score of {:.4f}.\".format(predict_labels(clf_SVM, X_scaled_train, y_scaled_train))\n",
    "print \"Tuned SVM model has a testing F1 score of {:.4f}.\".format(predict_labels(clf_SVM, X_scaled_test, y_scaled_test))\n",
    "\n",
    "print grid_obj_SVM.best_params_"
   ]
  },
  {
   "cell_type": "code",
   "execution_count": 18,
   "metadata": {
    "collapsed": false
   },
   "outputs": [
    {
     "data": {
      "image/png": "[encoded data removed]",
      "text/plain": [
       "<matplotlib.figure.Figure at 0xb85f908>"
      ]
     },
     "metadata": {},
     "output_type": "display_data"
    }
   ],
   "source": [
    "# Visualize GridSearchCV as above\n",
    "scores = [x[1] for x in grid_obj_SVM.grid_scores_]\n",
    "scores = np.array(scores).reshape(len(C_range), len(g_range))\n",
    "\n",
    "sns.heatmap(scores, annot = True, xticklabels = g_range, yticklabels = C_range)\n",
    "sns.axlabel('gamma','C')"
   ]
  },
  {
   "cell_type": "code",
   "execution_count": 19,
   "metadata": {
    "collapsed": false
   },
   "outputs": [
    {
     "data": {
      "image/png": "[encoded data removed]",
      "text/plain": [
       "<matplotlib.figure.Figure at 0xbb46198>"
      ]
     },
     "metadata": {},
     "output_type": "display_data"
    }
   ],
   "source": [
    "# Confusion matrix for the tuned model\n",
    "cm_SVM = confusion_matrix(y_test.values, clf_SVM.predict(X_test))\n",
    "sns.heatmap(cm_SVM, annot=True, cmap='Blues', xticklabels=['no', 'yes'], yticklabels=['no', 'yes'])\n",
    "plt.ylabel('True label')\n",
    "plt.xlabel('Predicted label')\n",
    "plt.title('Confusion matrix for:\\n{}'.format(clf_C.__class__.__name__));"
   ]
  },
  {
   "cell_type": "code",
   "execution_count": 20,
   "metadata": {
    "collapsed": true
   },
   "outputs": [],
   "source": [
    "# In case you run any tests on the code, here are pointers using the original names\n",
    "parameters = parameters_RF\n",
    "clf = clf_RF\n",
    "grid_obj = grid_obj_RF"
   ]
  },
  {
   "cell_type": "markdown",
   "metadata": {},
   "source": [
    "### Decision Tree Visualization<sup>3</sup>\n",
    "The following code creates a visual of one of the decision trees in the Random Forest classifier. This was mostly done for my own curiosity, I know it's not a representation of the classifier as a whole. An example .png can be found in my GitHub repo. Running this code requires GraphViz to be installed locally, which can be found here: http://www.graphviz.org/Download..php"
   ]
  },
  {
   "cell_type": "code",
   "execution_count": 21,
   "metadata": {
    "collapsed": false
   },
   "outputs": [
    {
     "data": {
      "text/plain": [
       "'\\nfrom sklearn.externals.six import StringIO\\nfrom sklearn.tree import export_graphviz\\nfrom IPython.display import Image\\nimport pydot \\ndot_data = StringIO()\\n\\nexport_graphviz(clf_RF.estimators_[3], out_file=dot_data, feature_names=X_all.columns, filled=True, rounded=True)\\ngraph = pydot.graph_from_dot_data(dot_data.getvalue())[0]\\nImage(graph.create_png())\\n'"
      ]
     },
     "execution_count": 21,
     "metadata": {},
     "output_type": "execute_result"
    }
   ],
   "source": [
    "\"\"\"\n",
    "from sklearn.externals.six import StringIO\n",
    "from sklearn.tree import export_graphviz\n",
    "from IPython.display import Image\n",
    "import pydot \n",
    "dot_data = StringIO()\n",
    "\n",
    "export_graphviz(clf_RF.estimators_[3], out_file=dot_data, feature_names=X_all.columns, filled=True, rounded=True)\n",
    "graph = pydot.graph_from_dot_data(dot_data.getvalue())[0]\n",
    "Image(graph.create_png())\n",
    "\"\"\""
   ]
  },
  {
   "cell_type": "markdown",
   "metadata": {},
   "source": [
    "### Question 5 - Final F<sub>1</sub> Score\n",
    "*What is the final model's F<sub>1</sub> score for training and testing? How does that score compare to the untuned model?*"
   ]
  },
  {
   "cell_type": "markdown",
   "metadata": {},
   "source": [
    "**Answer: **\n",
    "\n",
    "The final model has a training F1 score of 1.000 and a testing F1 score of 0.8028. The untuned model had scores of 0.9989 and 0.6949, and 0.9900 and 0.7538 trained on unbalanced data. This seems to be a significant improvement. It's notable, however, that the confusion matrix for the untuned and tuned models show a swing from many false negatives to many false positives which, in spite of scoring better, might be a worse choice. If we want to intervene with the most at risk students, even at the expense of intervening with more students who don't need it, then the untuned model would serve that purpose better."
   ]
  },
  {
   "cell_type": "markdown",
   "metadata": {},
   "source": [
    "### Notes\n",
    "I mention in answer 3 that getting the weights out of the random forest classifier could be helpful. I didn't implement this since there's no actual interventions happening, but I do believe it is a nice benefit that RFC does this automatically.\n",
    "\n",
    "Using such a small dataset made aspects of this project quite frustrating. The random state used had a significant impact on the models which I suspect is due to the way it splits the data, and while some modifications suggested by a reviewer helped mitigate this (balancing the training data and using the stratify parameter in train_test_split) the gains were marginal. Usually the end result of tuning was an improvement over the untuned model, but a hypothetical classifier that simply returns 'yes' for every student would score nearly as well or better. Like I said in answer 5 I found myself running into the accuracy paradox quite a bit with the highest scoring models favoring false positives over true negatives. Were I further concerned with improving the model I would try using a different scoring method. I'd also look into feature selection to try and counteract noise in the data.\n",
    "\n",
    "I also ran into one thing that confused me quite a bit: sometimes the result of testing more parameters with GridSearchCV would be a lower F1 score despite knowing that, were it to choose differently, a higher score could be achieved. For example, adding 'max_features':['auto','log2'] to parameters_RF results in GridSearchCV choosing log2 at a loss of about .04 on the F1 score. Not being able to visualize more than two dimensions I have no idea what it's doing, and having to manually avoid giving it the option feels like a hack that defeats the point of using it in the first place."
   ]
  },
  {
   "cell_type": "markdown",
   "metadata": {},
   "source": [
    "### Citations\n",
    "[1] Based off of code found here http://blog.districtdatalabs.com/visual-diagnostics-for-more-informed-machine-learning-part-3  \n",
    "[2] Code given by project reviewer. Sorry I don't know who to cite, but thank you  \n",
    "[3] Code largely drawn from http://scikit-learn.org/stable/modules/tree.html  "
   ]
  },
  {
   "cell_type": "markdown",
   "metadata": {},
   "source": [
    "> **Note**: Once you have completed all of the code implementations and successfully answered each question above, you may finalize your work by exporting the iPython Notebook as an HTML document. You can do this by using the menu above and navigating to  \n",
    "**File -> Download as -> HTML (.html)**. Include the finished document along with this notebook as your submission."
   ]
  }
 ],
 "metadata": {
  "kernelspec": {
   "display_name": "Python 2",
   "language": "python",
   "name": "python2"
  },
  "language_info": {
   "codemirror_mode": {
    "name": "ipython",
    "version": 2
   },
   "file_extension": ".py",
   "mimetype": "text/x-python",
   "name": "python",
   "nbconvert_exporter": "python",
   "pygments_lexer": "ipython2",
   "version": "2.7.11"
  }
 },
 "nbformat": 4,
 "nbformat_minor": 0
}
